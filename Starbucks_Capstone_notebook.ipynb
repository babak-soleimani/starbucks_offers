{
 "cells": [
  {
   "cell_type": "markdown",
   "metadata": {},
   "source": [
    "# Starbucks Capstone Challenge\n",
    "\n",
    "### Introduction\n",
    "\n",
    "This data set contains simulated data that mimics customer behavior on the Starbucks rewards mobile app. Once every few days, Starbucks sends out an offer to users of the mobile app. An offer can be merely an advertisement for a drink or an actual offer such as a discount or BOGO (buy one get one free). Some users might not receive any offer during certain weeks. \n",
    "\n",
    "Not all users receive the same offer, and that is the challenge to solve with this data set.\n",
    "\n",
    "Your task is to combine transaction, demographic and offer data to determine which demographic groups respond best to which offer type. This data set is a simplified version of the real Starbucks app because the underlying simulator only has one product whereas Starbucks actually sells dozens of products.\n",
    "\n",
    "Every offer has a validity period before the offer expires. As an example, a BOGO offer might be valid for only 5 days. You'll see in the data set that informational offers have a validity period even though these ads are merely providing information about a product; for example, if an informational offer has 7 days of validity, you can assume the customer is feeling the influence of the offer for 7 days after receiving the advertisement.\n",
    "\n",
    "You'll be given transactional data showing user purchases made on the app including the timestamp of purchase and the amount of money spent on a purchase. This transactional data also has a record for each offer that a user receives as well as a record for when a user actually views the offer. There are also records for when a user completes an offer. \n",
    "\n",
    "Keep in mind as well that someone using the app might make a purchase through the app without having received an offer or seen an offer.\n",
    "\n",
    "### Example\n",
    "\n",
    "To give an example, a user could receive a discount offer buy 10 dollars get 2 off on Monday. The offer is valid for 10 days from receipt. If the customer accumulates at least 10 dollars in purchases during the validity period, the customer completes the offer.\n",
    "\n",
    "However, there are a few things to watch out for in this data set. Customers do not opt into the offers that they receive; in other words, a user can receive an offer, never actually view the offer, and still complete the offer. For example, a user might receive the \"buy 10 dollars get 2 dollars off offer\", but the user never opens the offer during the 10 day validity period. The customer spends 15 dollars during those ten days. There will be an offer completion record in the data set; however, the customer was not influenced by the offer because the customer never viewed the offer.\n",
    "\n",
    "### Cleaning\n",
    "\n",
    "This makes data cleaning especially important and tricky.\n",
    "\n",
    "You'll also want to take into account that some demographic groups will make purchases even if they don't receive an offer. From a business perspective, if a customer is going to make a 10 dollar purchase without an offer anyway, you wouldn't want to send a buy 10 dollars get 2 dollars off offer. You'll want to try to assess what a certain demographic group will buy when not receiving any offers.\n",
    "\n",
    "### Final Advice\n",
    "\n",
    "Because this is a capstone project, you are free to analyze the data any way you see fit. For example, you could build a machine learning model that predicts how much someone will spend based on demographics and offer type. Or you could build a model that predicts whether or not someone will respond to an offer. Or, you don't need to build a machine learning model at all. You could develop a set of heuristics that determine what offer you should send to each customer (i.e., 75 percent of women customers who were 35 years old responded to offer A vs 40 percent from the same demographic to offer B, so send offer A)."
   ]
  },
  {
   "cell_type": "markdown",
   "metadata": {},
   "source": [
    "# Data Sets\n",
    "\n",
    "The data is contained in three files:\n",
    "\n",
    "* portfolio.json - containing offer ids and meta data about each offer (duration, type, etc.)\n",
    "* profile.json - demographic data for each customer\n",
    "* transcript.json - records for transactions, offers received, offers viewed, and offers completed\n",
    "\n",
    "Here is the schema and explanation of each variable in the files:\n",
    "\n",
    "**portfolio.json**\n",
    "* id (string) - offer id\n",
    "* offer_type (string) - type of offer ie BOGO, discount, informational\n",
    "* difficulty (int) - minimum required spend to complete an offer\n",
    "* reward (int) - reward given for completing an offer\n",
    "* duration (int) - time for offer to be open, in days\n",
    "* channels (list of strings)\n",
    "\n",
    "**profile.json**\n",
    "* age (int) - age of the customer \n",
    "* became_member_on (int) - date when customer created an app account\n",
    "* gender (str) - gender of the customer (note some entries contain 'O' for other rather than M or F)\n",
    "* id (str) - customer id\n",
    "* income (float) - customer's income\n",
    "\n",
    "**transcript.json**\n",
    "* event (str) - record description (ie transaction, offer received, offer viewed, etc.)\n",
    "* person (str) - customer id\n",
    "* time (int) - time in hours since start of test. The data begins at time t=0\n",
    "* value - (dict of strings) - either an offer id or transaction amount depending on the record\n",
    "\n",
    "**Note:** If you are using the workspace, you will need to go to the terminal and run the command `conda update pandas` before reading in the files. This is because the version of pandas in the workspace cannot read in the transcript.json file correctly, but the newest version of pandas can. You can access the termnal from the orange icon in the top left of this notebook.  \n",
    "\n",
    "You can see how to access the terminal and how the install works using the two images below.  First you need to access the terminal:\n",
    "\n",
    "<img src=\"pic1.png\"/>\n",
    "\n",
    "Then you will want to run the above command:\n",
    "\n",
    "<img src=\"pic2.png\"/>\n",
    "\n",
    "Finally, when you enter back into the notebook (use the jupyter icon again), you should be able to run the below cell without any errors."
   ]
  },
  {
   "cell_type": "markdown",
   "metadata": {},
   "source": [
    "## Importing libraries"
   ]
  },
  {
   "cell_type": "code",
   "execution_count": 3,
   "metadata": {},
   "outputs": [],
   "source": [
    "import pandas as pd\n",
    "import numpy as np\n",
    "import math\n",
    "import json\n",
    "from tqdm import tqdm, tqdm_notebook\n",
    "% matplotlib inline"
   ]
  },
  {
   "cell_type": "markdown",
   "metadata": {},
   "source": [
    "## Reading files"
   ]
  },
  {
   "cell_type": "code",
   "execution_count": 4,
   "metadata": {},
   "outputs": [],
   "source": [
    "# read in the json files\n",
    "portfolio = pd.read_json('data/portfolio.json', orient='records', lines=True)\n",
    "profile = pd.read_json('data/profile.json', orient='records', lines=True)\n",
    "transcript = pd.read_json('data/transcript.json', orient='records', lines=True)"
   ]
  },
  {
   "cell_type": "markdown",
   "metadata": {},
   "source": [
    "## DEFINE: The customer journey"
   ]
  },
  {
   "cell_type": "code",
   "execution_count": 5,
   "metadata": {},
   "outputs": [],
   "source": [
    "def customer_journey(customer_number, df = transcript):\n",
    "    \"\"\"\n",
    "    Takes in the customer id and delivers a customer journey including all customer interactions\n",
    "    Args: \n",
    "        customer_number (str): customer number in the file\n",
    "        df (pandas dataframe): dataframe with all interactions\n",
    "    Return:\n",
    "        customer_offer_df (pandas dataframe): a dataframe with all interactions of a customer\n",
    "    \"\"\"\n",
    "    # getting unique customer ids\n",
    "    cutosmer_ids = transcript['person'].unique().tolist()\n",
    "    # building a dataframe for all transactions connected to a user\n",
    "    customer_df = transcript.loc[transcript['person'] == cutosmer_ids[customer_number]]\n",
    "    # merging user dataframe with caractheristics of each offer \n",
    "    customer_offer_df = customer_df.merge(portfolio, how=\"left\", left_on='value_string', right_on = 'id')\n",
    "    # removing id\n",
    "    customer_offer_df.drop(columns=['id'], inplace = True)\n",
    "    # creating a new column for marking the time that offer ends    \n",
    "    customer_offer_df[\"offer ends\"] = np.nan        \n",
    "    customer_offer_df['duration'] = customer_offer_df['duration'] * 24\n",
    "    customer_offer_df[\"offer ends\"] = customer_offer_df[\"time\"] + customer_offer_df['duration']\n",
    "    \n",
    "    return (customer_offer_df)"
   ]
  },
  {
   "cell_type": "markdown",
   "metadata": {},
   "source": [
    "## DEFINE: Row finder function"
   ]
  },
  {
   "cell_type": "code",
   "execution_count": 6,
   "metadata": {},
   "outputs": [],
   "source": [
    "def find_rows(df, column, value):\n",
    "    \"\"\"\n",
    "    A function to select all the rows in a dataframe column that match a value\n",
    "    Args: \n",
    "        df (pandas dataframe): dataframe with all interactions\n",
    "        column (str): column title    \n",
    "        value (str or list): criteria value       \n",
    "    Return:\n",
    "        rows (pandas dataframe): a dataframe with values matching the criteria\n",
    "    \"\"\"\n",
    "    # checking if function has received a signle value or a list of values    \n",
    "    if type(value) == list:\n",
    "    # retrieving lists   \n",
    "        rows = df.loc[df[column].isin(value)]    \n",
    "    else:\n",
    "        rows = df.loc[df[column] == value]\n",
    "        \n",
    "    return rows"
   ]
  },
  {
   "cell_type": "markdown",
   "metadata": {},
   "source": [
    "## DEFINE: Function for extracting user transaction profile"
   ]
  },
  {
   "cell_type": "code",
   "execution_count": 7,
   "metadata": {},
   "outputs": [],
   "source": [
    "def profile_builder(list_of_offer_ids, transaction_dictionary, journey_profile_dict, pipeline_profile):\n",
    "    \"\"\"\n",
    "    A function for extracting user transaction profile\n",
    "    Args: \n",
    "        list_of_offer_ids (list): dataframe with all interactions\n",
    "        column (str): column title    \n",
    "        value (str or list): criteria value   \n",
    "        journey_profile_dict (dict): a dictinary which accumulates journey profiles\n",
    "        pipeline_profile (list): the list representing the profile of transactions\n",
    "    Return:\n",
    "        rows (pandas dataframe): a dataframe with values matching the criteria\n",
    "    \"\"\"\n",
    "    for id in list_of_offer_ids:\n",
    "        # check if there any associated transactions\n",
    "        if id in transaction_dictionary.keys():\n",
    "        # getting the number of transaction associated with id\n",
    "            transaction_count = transaction_dictionary[id]\n",
    "        else:\n",
    "        # else return 0\n",
    "            transaction_count = 0\n",
    "        # adding transaction count to the pipeline profile\n",
    "        updated_pipeline_profile = pipeline_profile + [transaction_count]\n",
    "        journey_profile_dict[id] = updated_pipeline_profile\n",
    "        \n",
    "    return journey_profile_dict"
   ]
  },
  {
   "cell_type": "markdown",
   "metadata": {},
   "source": [
    "## Define: Building a summary of the user offer behavior"
   ]
  },
  {
   "cell_type": "code",
   "execution_count": 138,
   "metadata": {},
   "outputs": [],
   "source": [
    "def pipeline_builder(customer_id):\n",
    "    \"\"\"\n",
    "    A function for building a summary of the user offer behavior\n",
    "    Args: \n",
    "        customer_id (integer): the customer id for building summary\n",
    "    Return:\n",
    "        profile_df (pandas dataframe): a dataframe with summary\n",
    "    \"\"\"\n",
    "    # getting the customer journey for each user\n",
    "    cj = customer_journey(customer_id)\n",
    "    # getting the customer id\n",
    "    person_id = cj['person'].unique()[0]\n",
    "    # getting the list of received, viewed and completed offers\n",
    "    offers_received = find_rows(cj, 'event', 'offer received')['value_string'].tolist()\n",
    "    offers_viewed = find_rows(cj, 'event', 'offer viewed')['value_string'].tolist()\n",
    "    offers_completed = find_rows(cj, 'event', 'offer completed')['value_string'].tolist()\n",
    "    \n",
    "    # a dictionary for holding journey profiles\n",
    "    journey_profile = {}\n",
    "    \n",
    "    # different piplines for each user\n",
    "    \n",
    "    # pipeline 1: only received, not viewed or completed\n",
    "    r_not_v_not_c = [i for i in offers_received if (i not in offers_viewed and i not in offers_completed)] \n",
    "    # pipeline 2: received, viewed but not completed\n",
    "    r_v_not_c = [i for i in offers_received if (i in offers_viewed and i not in offers_completed)]\n",
    "    # pipeline 3: received, viewed and completed\n",
    "    r_v_c = [i for i in offers_received if (i in offers_viewed and i in offers_completed)]\n",
    "    # pipeline 4: not received or viewed but completed\n",
    "    not_r_not_v_c = [i for i in offers_completed if i not in offers_received]\n",
    "    # pipeline 5: received, viewed and not completed but some transactions    \n",
    "    transaction_times = find_rows (customer_journey(customer_id), 'event', 'transaction')['time']\n",
    "    \n",
    "    # conversion of transaction times to a list\n",
    "    transaction_times = transaction_times.values.tolist()\n",
    "    \n",
    "    # the following part adds the number of transaction to each customer profile\n",
    "    r_v_not_c_some_t = {}\n",
    "    r_v_not_c_no_t = {}\n",
    "\n",
    "    # finding offers that have one or multiple transactions associated with them\n",
    "    for transaction_time in transaction_times:\n",
    "        connected_offers = cj.loc[(cj['time'] <= transaction_time) & \n",
    "                   (cj['offer ends'] >= transaction_time) &\n",
    "                   (cj['event'] == \"offer received\")]\n",
    "        if connected_offers.empty:\n",
    "            continue\n",
    "        else:\n",
    "            offers = connected_offers['value_string'].values\n",
    "\n",
    "        for offer in offers: \n",
    "            try:\n",
    "                r_v_not_c_some_t[offer] += 1\n",
    "            except:\n",
    "                r_v_not_c_some_t[offer] = 1 \n",
    "\n",
    "    # pipeline 6: received, viewed and not completed and no transactions    \n",
    "    r_v_not_c_no_t = [i for i in r_v_not_c if i not in r_v_not_c_some_t.keys()]\n",
    "    \n",
    "    # pipeline 7: received, not viewed but completed\n",
    "    r_not_v_c = [i for i in offers_completed if (i in offers_received and i not in offers_viewed)]\n",
    "    \n",
    "    \n",
    "    # building all user profiles\n",
    "    profile_builder(r_not_v_not_c, r_v_not_c_some_t, journey_profile, [1,0,0])\n",
    "    profile_builder(r_v_not_c, r_v_not_c_some_t, journey_profile, [1,1,0])\n",
    "    profile_builder(r_v_c, r_v_not_c_some_t, journey_profile, [1,1,1])\n",
    "    profile_builder(not_r_not_v_c, r_v_not_c_some_t, journey_profile, [0,0,1])\n",
    "    profile_builder(r_not_v_c, r_v_not_c_some_t, journey_profile, [1,0,1])\n",
    "\n",
    "    column_names = [\"received\", \"viewed\", \"completed\", \"num_transactions\"]\n",
    "    \n",
    "    # building a dataframe from the journey profile\n",
    "    profile_df = pd.DataFrame.from_dict(journey_profile, orient='index',\n",
    "                       columns=column_names)\n",
    "    \n",
    "    # adding offer and customer id indexes\n",
    "    profile_df['offer_id'] = profile_df.index    \n",
    "    profile_df['cusotmer_id'] = person_id\n",
    "\n",
    "    return profile_df"
   ]
  },
  {
   "cell_type": "markdown",
   "metadata": {},
   "source": [
    "### Data Preparation"
   ]
  },
  {
   "cell_type": "code",
   "execution_count": 9,
   "metadata": {},
   "outputs": [],
   "source": [
    "# slicing the value column to create two new columns (parameter and value_string)\n",
    "transcript['parameter'] = transcript['value'].apply(lambda x: list(x.keys())[0])\n",
    "transcript['value_string'] = transcript['value'].apply(lambda x: list(x.values())[0])\n",
    "transcript['parameter'] = transcript['parameter'].str.replace('_', ' ')\n",
    "transcript.drop(columns=['value'], inplace = True)"
   ]
  },
  {
   "cell_type": "code",
   "execution_count": 10,
   "metadata": {},
   "outputs": [
    {
     "data": {
      "application/vnd.jupyter.widget-view+json": {
       "model_id": "6fb4b8ea28744a0e89273d3f50a36e0c",
       "version_major": 2,
       "version_minor": 0
      },
      "text/html": [
       "<p>Failed to display Jupyter Widget of type <code>HBox</code>.</p>\n",
       "<p>\n",
       "  If you're reading this message in the Jupyter Notebook or JupyterLab Notebook, it may mean\n",
       "  that the widgets JavaScript is still loading. If this message persists, it\n",
       "  likely means that the widgets JavaScript library is either not installed or\n",
       "  not enabled. See the <a href=\"https://ipywidgets.readthedocs.io/en/stable/user_install.html\">Jupyter\n",
       "  Widgets Documentation</a> for setup instructions.\n",
       "</p>\n",
       "<p>\n",
       "  If you're reading this message in another frontend (for example, a static\n",
       "  rendering on GitHub or <a href=\"https://nbviewer.jupyter.org/\">NBViewer</a>),\n",
       "  it may mean that your frontend doesn't currently support widgets.\n",
       "</p>\n"
      ],
      "text/plain": [
       "HBox(children=(IntProgress(value=0, max=17000), HTML(value='')))"
      ]
     },
     "metadata": {},
     "output_type": "display_data"
    },
    {
     "name": "stdout",
     "output_type": "stream",
     "text": [
      "\n"
     ]
    }
   ],
   "source": [
    "# Building transaction and offer pipeline for all customers\n",
    "num_of_unique_customers = transcript['person'].unique().shape[0]\n",
    "\n",
    "for key in tqdm_notebook(range(num_of_unique_customers)):\n",
    "    try:\n",
    "        customer_offers_df = pd.concat([customer_offers_df, pipeline_builder(key)])\n",
    "    except:\n",
    "        customer_offers_df = pipeline_builder(key)"
   ]
  },
  {
   "cell_type": "markdown",
   "metadata": {},
   "source": [
    "### Adding Customer profile and offer attributes"
   ]
  },
  {
   "cell_type": "code",
   "execution_count": 14,
   "metadata": {},
   "outputs": [],
   "source": [
    "# mergining the profile dataset with portfolio and profile data to add offer and customer information\n",
    "customer_offers_info_df = customer_offers_df.merge(portfolio, how=\"left\", left_on='offer_id', right_on = 'id').drop(columns=['id'])\n",
    "customer_offers_full_df = customer_offers_info_df.merge(profile, how=\"left\", left_on='cusotmer_id', right_on = 'id').drop(columns=['id'])        "
   ]
  },
  {
   "cell_type": "markdown",
   "metadata": {},
   "source": [
    "### Converting Values to numeric"
   ]
  },
  {
   "cell_type": "code",
   "execution_count": 15,
   "metadata": {},
   "outputs": [],
   "source": [
    "customer_offers_full_df[['received', 'viewed', 'completed', 'num_transactions']] = customer_offers_full_df[['received', 'viewed', 'completed', 'num_transactions']].apply(pd.to_numeric) "
   ]
  },
  {
   "cell_type": "markdown",
   "metadata": {},
   "source": [
    "### Saving a pickle file (To save the time needed for re-running the pipeline builder)"
   ]
  },
  {
   "cell_type": "code",
   "execution_count": 16,
   "metadata": {},
   "outputs": [],
   "source": [
    "# saving dataframe as a pickle file\n",
    "customer_offers_full_df.to_pickle(\"customer_offers_demo_data.pkl\")"
   ]
  },
  {
   "cell_type": "markdown",
   "metadata": {},
   "source": [
    "# Exploratory Analysis"
   ]
  },
  {
   "cell_type": "markdown",
   "metadata": {},
   "source": [
    "#### Loding the pickle file (Only needed if we the kernel has been shutdown)"
   ]
  },
  {
   "cell_type": "code",
   "execution_count": 106,
   "metadata": {},
   "outputs": [],
   "source": [
    "# saving dataframe as a pickle file\n",
    "customer_offers_full_df = pd.read_pickle(\"customer_offers_demo_data.pkl\")"
   ]
  },
  {
   "cell_type": "markdown",
   "metadata": {},
   "source": [
    "### Visualizing age"
   ]
  },
  {
   "cell_type": "code",
   "execution_count": 107,
   "metadata": {},
   "outputs": [
    {
     "data": {
      "image/png": "[encoded data removed]",
      "text/plain": [
       "<matplotlib.figure.Figure at 0x7fe0e5da6ac8>"
      ]
     },
     "metadata": {
      "needs_background": "light"
     },
     "output_type": "display_data"
    }
   ],
   "source": [
    "hist = customer_offers_full_df['age'].hist(bins=10)"
   ]
  },
  {
   "cell_type": "markdown",
   "metadata": {},
   "source": [
    "### dropping age values over 99 years old"
   ]
  },
  {
   "cell_type": "code",
   "execution_count": 108,
   "metadata": {},
   "outputs": [],
   "source": [
    "customer_offers_full_df = customer_offers_full_df.loc[customer_offers_full_df['age'] < 100]"
   ]
  },
  {
   "cell_type": "code",
   "execution_count": 109,
   "metadata": {},
   "outputs": [
    {
     "data": {
      "text/plain": [
       "<matplotlib.axes._subplots.AxesSubplot at 0x7fe0e5de1eb8>"
      ]
     },
     "execution_count": 109,
     "metadata": {},
     "output_type": "execute_result"
    },
    {
     "data": {
      "image/png": "[encoded data removed]",
      "text/plain": [
       "<matplotlib.figure.Figure at 0x7fe0e5dc6be0>"
      ]
     },
     "metadata": {
      "needs_background": "light"
     },
     "output_type": "display_data"
    }
   ],
   "source": [
    "customer_offers_full_df['income'].hist(bins=20)"
   ]
  },
  {
   "cell_type": "markdown",
   "metadata": {},
   "source": [
    "## Relationship between offers and rate of completion"
   ]
  },
  {
   "cell_type": "code",
   "execution_count": 110,
   "metadata": {},
   "outputs": [
    {
     "data": {
      "image/png": "[encoded data removed]",
      "text/plain": [
       "<matplotlib.figure.Figure at 0x7fe0e5e1f7b8>"
      ]
     },
     "metadata": {
      "needs_background": "light"
     },
     "output_type": "display_data"
    }
   ],
   "source": [
    "offer_type_stat = customer_offers_full_df.groupby(by = 'offer_type').mean()[['viewed', 'completed']]\n",
    "\n",
    "ax = offer_type_stat.plot.bar(rot = 0)"
   ]
  },
  {
   "cell_type": "markdown",
   "metadata": {},
   "source": [
    "## Relationship between gender and rate of completion"
   ]
  },
  {
   "cell_type": "code",
   "execution_count": 111,
   "metadata": {},
   "outputs": [
    {
     "data": {
      "image/png": "[encoded data removed]",
      "text/plain": [
       "<matplotlib.figure.Figure at 0x7fe0e6a6d780>"
      ]
     },
     "metadata": {
      "needs_background": "light"
     },
     "output_type": "display_data"
    }
   ],
   "source": [
    "offer_type_stat = customer_offers_full_df.groupby(by = 'gender').mean()[['viewed', 'completed']]\n",
    "\n",
    "ax = offer_type_stat.plot.bar(rot = 0)"
   ]
  },
  {
   "cell_type": "markdown",
   "metadata": {},
   "source": [
    "### Creating bins for income and age to visualize relationships with the rate of completion"
   ]
  },
  {
   "cell_type": "code",
   "execution_count": 112,
   "metadata": {},
   "outputs": [],
   "source": [
    "customer_offers_full_df['income_cut'] = pd.cut(customer_offers_full_df.income, bins=10) \n",
    "customer_offers_full_df['age_cut'] = pd.cut(customer_offers_full_df.age, bins=10) "
   ]
  },
  {
   "cell_type": "markdown",
   "metadata": {},
   "source": [
    "### Income levels and completed offers"
   ]
  },
  {
   "cell_type": "code",
   "execution_count": 113,
   "metadata": {},
   "outputs": [
    {
     "data": {
      "image/png": "[encoded data removed]",
      "text/plain": [
       "<matplotlib.figure.Figure at 0x7fe0e5db4ba8>"
      ]
     },
     "metadata": {
      "needs_background": "light"
     },
     "output_type": "display_data"
    }
   ],
   "source": [
    "income_cut_stat = customer_offers_full_df.groupby(by = ['income_cut']).mean()[['viewed', 'completed']]\n",
    "\n",
    "ax = income_cut_stat.plot.barh(rot=0)"
   ]
  },
  {
   "cell_type": "markdown",
   "metadata": {},
   "source": [
    "### Age and completed discount offers\n"
   ]
  },
  {
   "cell_type": "code",
   "execution_count": 114,
   "metadata": {},
   "outputs": [
    {
     "data": {
      "image/png": "[encoded data removed]",
      "text/plain": [
       "<matplotlib.figure.Figure at 0x7fe0e5d5b128>"
      ]
     },
     "metadata": {
      "needs_background": "light"
     },
     "output_type": "display_data"
    }
   ],
   "source": [
    "income_cut_stat = customer_offers_full_df.groupby(by = ['age_cut']).mean()[['viewed', 'completed']]\n",
    "\n",
    "ax = income_cut_stat.plot.barh(rot=0)"
   ]
  },
  {
   "cell_type": "markdown",
   "metadata": {},
   "source": [
    "## Data Preparation for Modelling"
   ]
  },
  {
   "cell_type": "markdown",
   "metadata": {},
   "source": [
    "## Convert categorical variables to dummy variables"
   ]
  },
  {
   "cell_type": "code",
   "execution_count": 115,
   "metadata": {},
   "outputs": [],
   "source": [
    "def dummy_maker(df, list_dummy_variables):\n",
    "    \"\"\"\n",
    "    A function for creating dummay variables and adding them to a dataframe\n",
    "    Args: \n",
    "        df (pandas dataframe): input dataframe\n",
    "        list_dummy_variables (list): list of columns names to be turned into dummy variables\n",
    "    Return:\n",
    "        df (pandas dataframe): export dataframe with added dummy variables\n",
    "    \"\"\"    \n",
    "    for variable in list_dummy_variables:\n",
    "        \n",
    "        just_dummies = pd.get_dummies(df[variable])\n",
    "\n",
    "        df = pd.concat([df, just_dummies], axis=1)   \n",
    "        \n",
    "        df.drop([variable], inplace=True, axis=1)\n",
    "        \n",
    "    return df"
   ]
  },
  {
   "cell_type": "markdown",
   "metadata": {},
   "source": [
    "### Converting channels to dummy variables"
   ]
  },
  {
   "cell_type": "code",
   "execution_count": 116,
   "metadata": {},
   "outputs": [],
   "source": [
    "s = customer_offers_full_df['channels']\n",
    "\n",
    "customer_offers_full_df[[\"email\", \"mobile\", 'social', \"web\"]] = pd.get_dummies(s.apply(pd.Series).stack()).sum(level=0)"
   ]
  },
  {
   "cell_type": "markdown",
   "metadata": {},
   "source": [
    "### Converting gender and offer type to dummy variables"
   ]
  },
  {
   "cell_type": "code",
   "execution_count": 117,
   "metadata": {},
   "outputs": [],
   "source": [
    "customer_offers_full_df = dummy_maker(customer_offers_full_df, ['gender', 'offer_type'])"
   ]
  },
  {
   "cell_type": "markdown",
   "metadata": {},
   "source": [
    "### Dropping last coulmn in each dummy variable"
   ]
  },
  {
   "cell_type": "code",
   "execution_count": 118,
   "metadata": {},
   "outputs": [],
   "source": [
    "customer_offers_full_df.drop(columns = ['O', 'informational', 'web'], inplace= True)"
   ]
  },
  {
   "cell_type": "code",
   "execution_count": 119,
   "metadata": {},
   "outputs": [],
   "source": [
    "customer_offers_full_df.drop(columns= ['cusotmer_id'], inplace = True)"
   ]
  },
  {
   "cell_type": "markdown",
   "metadata": {},
   "source": [
    "#### Removing all rows with any null values"
   ]
  },
  {
   "cell_type": "code",
   "execution_count": 120,
   "metadata": {},
   "outputs": [],
   "source": [
    "customer_offers_full_df.dropna(inplace = True)"
   ]
  },
  {
   "cell_type": "markdown",
   "metadata": {},
   "source": [
    "#### Normalizing income and age"
   ]
  },
  {
   "cell_type": "code",
   "execution_count": 121,
   "metadata": {},
   "outputs": [],
   "source": [
    "from sklearn.preprocessing import MinMaxScaler\n",
    "\n",
    "min_max_scaler = MinMaxScaler()\n",
    "\n",
    "customer_offers_full_df[['income', 'age']] = min_max_scaler.fit_transform(customer_offers_full_df[['income', 'age']])"
   ]
  },
  {
   "cell_type": "markdown",
   "metadata": {},
   "source": [
    "#### A new column which shows all offers that involved any transactions"
   ]
  },
  {
   "cell_type": "code",
   "execution_count": 122,
   "metadata": {},
   "outputs": [],
   "source": [
    "customer_offers_full_df['any_transaction'] = customer_offers_full_df['num_transactions']\n",
    "\n",
    "customer_offers_full_df.loc[customer_offers_full_df['any_transaction'] > 0, 'any_transaction'] = 1"
   ]
  },
  {
   "cell_type": "markdown",
   "metadata": {},
   "source": [
    "### Saving a pickle file (To save the time needed for cleaning data)"
   ]
  },
  {
   "cell_type": "code",
   "execution_count": 123,
   "metadata": {},
   "outputs": [],
   "source": [
    "# saving dataframe as a pickle file\n",
    "customer_offers_full_df.to_pickle(\"customer_offer_df_ready_for_ml.pkl\")"
   ]
  },
  {
   "cell_type": "markdown",
   "metadata": {},
   "source": [
    "## Training and Testing Models"
   ]
  },
  {
   "cell_type": "markdown",
   "metadata": {},
   "source": [
    "#### STEP 0 - Loding the pickle file (Only needed if we the kernel has been shutdown)"
   ]
  },
  {
   "cell_type": "code",
   "execution_count": 124,
   "metadata": {},
   "outputs": [],
   "source": [
    "# reading dataframe as a pickle file\n",
    "moddling_dataset = pd.read_pickle(\"customer_offer_df_ready_for_ml.pkl\")"
   ]
  },
  {
   "cell_type": "markdown",
   "metadata": {},
   "source": [
    "### STEP 1 - import libraries"
   ]
  },
  {
   "cell_type": "code",
   "execution_count": 126,
   "metadata": {},
   "outputs": [],
   "source": [
    "# classifier modules\n",
    "from sklearn.ensemble import RandomForestClassifier \n",
    "from sklearn.svm import SVC   \n",
    "from sklearn.ensemble import GradientBoostingClassifier \n",
    "\n",
    "# Pipeline and GridSearch modules\n",
    "from sklearn.model_selection import train_test_split\n",
    "from sklearn.pipeline import Pipeline\n",
    "from sklearn.model_selection import GridSearchCV\n",
    "\n",
    "# evaluation and visualization modules\n",
    "from sklearn import metrics\n",
    "import numpy as np\n",
    "import matplotlib.pyplot as plt\n",
    "import seaborn as sns\n",
    "from sklearn.metrics import accuracy_score,recall_score,precision_score,f1_score"
   ]
  },
  {
   "cell_type": "markdown",
   "metadata": {},
   "source": [
    "### STEP 2 - Split features and labels"
   ]
  },
  {
   "cell_type": "code",
   "execution_count": 127,
   "metadata": {},
   "outputs": [],
   "source": [
    "labels = ['received', 'viewed', 'completed', 'num_transactions']\n",
    "\n",
    "features = ['F', 'M', 'income', 'age', 'email', 'mobile', 'social', 'bogo', 'discount']\n",
    "\n",
    "X = moddling_dataset[features]\n",
    "\n",
    "Y = moddling_dataset['completed']"
   ]
  },
  {
   "cell_type": "markdown",
   "metadata": {},
   "source": [
    "#### Convert features and label columns columns to numeric Values"
   ]
  },
  {
   "cell_type": "code",
   "execution_count": 128,
   "metadata": {},
   "outputs": [],
   "source": [
    "X= X.astype(float)\n",
    "\n",
    "Y = Y.apply(pd.to_numeric)"
   ]
  },
  {
   "cell_type": "markdown",
   "metadata": {},
   "source": [
    "### STEP 3 - Define preprocessing and analysis steps"
   ]
  },
  {
   "cell_type": "code",
   "execution_count": 129,
   "metadata": {},
   "outputs": [],
   "source": [
    "steps = {'random_forest': [('random_forest', RandomForestClassifier())],\n",
    "        'svc': [('svc', SVC())],\n",
    "        'gbr': [('gbr', GradientBoostingClassifier())]}"
   ]
  },
  {
   "cell_type": "markdown",
   "metadata": {},
   "source": [
    "### STEP 4 - Define parameters for grid search"
   ]
  },
  {
   "cell_type": "markdown",
   "metadata": {},
   "source": [
    "#### Random Forest"
   ]
  },
  {
   "cell_type": "code",
   "execution_count": 130,
   "metadata": {},
   "outputs": [],
   "source": [
    "# Number of trees in random forest\n",
    "n_estimators = [1, 10, 50, 100]\n",
    "# Number of features to consider at every split\n",
    "max_features = ['auto', 'sqrt']\n",
    "\n",
    "random_forest_parameters = {'random_forest__n_estimators': n_estimators, \n",
    "                            'random_forest__max_features': max_features}"
   ]
  },
  {
   "cell_type": "markdown",
   "metadata": {},
   "source": [
    "#### SVC"
   ]
  },
  {
   "cell_type": "code",
   "execution_count": 131,
   "metadata": {},
   "outputs": [],
   "source": [
    "kernel = ['linear', 'rbf', 'poly']\n",
    "gammas = [1, 10]\n",
    "\n",
    "svc_parameters = {'svc__kernel': kernel,\n",
    "                 'svc__gamma': gammas}"
   ]
  },
  {
   "cell_type": "markdown",
   "metadata": {},
   "source": [
    "#### Gradient Boost"
   ]
  },
  {
   "cell_type": "code",
   "execution_count": 142,
   "metadata": {},
   "outputs": [],
   "source": [
    "n_estimators = [1, 10, 50, 100]\n",
    "max_depth = [1, 2, 10, 20]\n",
    "max_features = [4]\n",
    "learning_rate = [1, .5, 0.25]\n",
    "\n",
    "gbr_parameters = {'gbr__n_estimators': n_estimators, \n",
    "                  'gbr__max_depth': max_depth,\n",
    "                 'gbr__max_features': max_features,\n",
    "                 'gbr__learning_rate': learning_rate}"
   ]
  },
  {
   "cell_type": "markdown",
   "metadata": {},
   "source": [
    "#### Create the grid of estimators"
   ]
  },
  {
   "cell_type": "code",
   "execution_count": 133,
   "metadata": {},
   "outputs": [],
   "source": [
    "param_grid_parameters = {'random_forest': random_forest_parameters, \n",
    "                         'svc': svc_parameters,\n",
    "                        'gbr': gbr_parameters}"
   ]
  },
  {
   "cell_type": "markdown",
   "metadata": {},
   "source": [
    "### STEP 5 - Split data to training and test"
   ]
  },
  {
   "cell_type": "code",
   "execution_count": 134,
   "metadata": {},
   "outputs": [],
   "source": [
    "X_train,X_test, y_train, y_test = train_test_split(X,Y, test_size = 0.2, random_state = 30)"
   ]
  },
  {
   "cell_type": "markdown",
   "metadata": {},
   "source": [
    "### STEP 6 - Fit data into Grid, Find best parameters and Evaluation of results"
   ]
  },
  {
   "cell_type": "code",
   "execution_count": 135,
   "metadata": {},
   "outputs": [],
   "source": [
    "def fit_evaluate_ML (estimator, X_train = X_train, y_train = y_train, X_test = X_test, y_test = y_test):  \n",
    "    \"\"\"\n",
    "    A function for training the dataset, finding best parameters and showing the result of model\n",
    "    Args: \n",
    "        estimator (string): type of estimator to be used for training the dataset. The estimator should be slected from the \n",
    "        dictionary param_grid_parameters. \n",
    "        X_train (pandas dataframe): features training dataset\n",
    "        y_train (pandas dataframe): labels training dataset\n",
    "        X_test (pandas dataframe): features test dataset\n",
    "        y_test (pandas dataframe): labels test dataset\n",
    "    Return:\n",
    "        None\n",
    "    \"\"\"       \n",
    "    \n",
    "    pipeline = Pipeline(steps[estimator])\n",
    "\n",
    "    model = GridSearchCV(pipeline, param_grid_parameters[estimator])\n",
    "    \n",
    "    # fitting the model\n",
    "    model.fit(X_train, y_train)\n",
    "    \n",
    "    # predicting results in the test dataset\n",
    "    Y_pred = model.predict(X_test)\n",
    "    \n",
    "    # creating cofusion matrix \n",
    "    cnf_matrix = metrics.confusion_matrix(y_test, Y_pred)\n",
    "\n",
    "    # visualizing the confusion matrix\n",
    "    %matplotlib inline\n",
    "    class_names=[0,1] # name  of classes\n",
    "    fig, ax = plt.subplots()\n",
    "    tick_marks = np.arange(len(class_names))\n",
    "    plt.xticks(tick_marks, class_names)\n",
    "    plt.yticks(tick_marks, class_names)\n",
    "    \n",
    "    # create heatmap\n",
    "    sns.heatmap(pd.DataFrame(cnf_matrix), annot=True, cmap=\"YlGnBu\" ,fmt='g')\n",
    "    ax.xaxis.set_label_position(\"top\")\n",
    "    plt.tight_layout()\n",
    "    plt.title('Confusion matrix', y=1.1)\n",
    "    plt.ylabel('Actual label')\n",
    "    plt.xlabel('Predicted label')\n",
    "\n",
    "    # printing metrics of confusion matrix\n",
    "    print(\"Accuracy:\", metrics.accuracy_score(y_test, Y_pred))\n",
    "    print(\"Precision:\",metrics.precision_score(y_test, Y_pred))\n",
    "    print(\"Recall:\",metrics.recall_score(y_test, Y_pred))\n",
    "    print(\"F1:\",metrics.f1_score(y_test, Y_pred))\n",
    "    \n",
    "    # printing best parameters\n",
    "    print (model.best_params_)"
   ]
  },
  {
   "cell_type": "markdown",
   "metadata": {},
   "source": [
    "### STEP 7 - Feed into pipeline and define grid"
   ]
  },
  {
   "cell_type": "code",
   "execution_count": 136,
   "metadata": {},
   "outputs": [
    {
     "name": "stdout",
     "output_type": "stream",
     "text": [
      "Accuracy: 0.745128251609\n",
      "Precision: 0.704910714286\n",
      "Recall: 0.851060007186\n",
      "F1: 0.771121601823\n",
      "{'gbr__learning_rate': 0.5, 'gbr__max_depth': 2, 'gbr__max_features': 4, 'gbr__n_estimators': 100}\n"
     ]
    },
    {
     "data": {
      "image/png": "[encoded data removed]",
      "text/plain": [
       "<matplotlib.figure.Figure at 0x7fe0e73a06a0>"
      ]
     },
     "metadata": {
      "needs_background": "light"
     },
     "output_type": "display_data"
    }
   ],
   "source": [
    "fit_evaluate_ML('gbr')"
   ]
  },
  {
   "cell_type": "code",
   "execution_count": 137,
   "metadata": {},
   "outputs": [
    {
     "name": "stdout",
     "output_type": "stream",
     "text": [
      "Accuracy: 0.745128251609\n",
      "Precision: 0.703217237308\n",
      "Recall: 0.856090549766\n",
      "F1: 0.772160103711\n",
      "{'svc__gamma': 10, 'svc__kernel': 'rbf'}\n"
     ]
    },
    {
     "data": {
      "image/png": "[encoded data removed]",
      "text/plain": [
       "<matplotlib.figure.Figure at 0x7fe0f4fc12e8>"
      ]
     },
     "metadata": {
      "needs_background": "light"
     },
     "output_type": "display_data"
    }
   ],
   "source": [
    "fit_evaluate_ML('svc')"
   ]
  },
  {
   "cell_type": "code",
   "execution_count": 52,
   "metadata": {},
   "outputs": [
    {
     "name": "stdout",
     "output_type": "stream",
     "text": [
      "Accuracy: 0.706698087556\n",
      "Precision: 0.696990192763\n",
      "Recall: 0.740567732663\n",
      "F1: 0.718118466899\n",
      "{'random_forest__max_features': 'auto', 'random_forest__n_estimators': 50}\n"
     ]
    },
    {
     "data": {
      "image/png": "[encoded data removed]",
      "text/plain": [
       "<matplotlib.figure.Figure at 0x7f784fc46b70>"
      ]
     },
     "metadata": {
      "needs_background": "light"
     },
     "output_type": "display_data"
    }
   ],
   "source": [
    "fit_evaluate_ML('random_forest')"
   ]
  }
 ],
 "metadata": {
  "kernelspec": {
   "display_name": "Python 3",
   "language": "python",
   "name": "python3"
  },
  "language_info": {
   "codemirror_mode": {
    "name": "ipython",
    "version": 3
   },
   "file_extension": ".py",
   "mimetype": "text/x-python",
   "name": "python",
   "nbconvert_exporter": "python",
   "pygments_lexer": "ipython3",
   "version": "3.6.3"
  }
 },
 "nbformat": 4,
 "nbformat_minor": 2
}
